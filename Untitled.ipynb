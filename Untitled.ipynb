{
 "cells": [
  {
   "cell_type": "markdown",
   "id": "5f620a7b-cc9b-402c-8d60-400a06a7f79d",
   "metadata": {},
   "source": [
    "# Esto es un título en Markdown\n",
    "## Esto es un subtítulo en MArkdown\n",
    "Esto es un texto para un paragráfo en Markdown\n",
    "\n",
    "*Esto es un texto en cursiva*\n",
    "\n",
    "**Esto es un texto en negrilla**"
   ]
  },
  {
   "cell_type": "code",
   "execution_count": 3,
   "id": "c98cacce-acf3-4afb-b0b4-2343c7ed76b1",
   "metadata": {},
   "outputs": [
    {
     "name": "stdout",
     "output_type": "stream",
     "text": [
      "Hola Mundo\n"
     ]
    }
   ],
   "source": [
    "print(\"Hola Mundo\")"
   ]
  },
  {
   "cell_type": "code",
   "execution_count": 2,
   "id": "d3f27d98-340a-476e-8984-a56aabd22bd9",
   "metadata": {},
   "outputs": [
    {
     "name": "stdout",
     "output_type": "stream",
     "text": [
      "Print es una instrucción que muestras texto por pantalla\n"
     ]
    }
   ],
   "source": [
    "print(\"Print es una instrucción que muestras texto por pantalla\")"
   ]
  }
 ],
 "metadata": {
  "kernelspec": {
   "display_name": "Python 3 (ipykernel)",
   "language": "python",
   "name": "python3"
  },
  "language_info": {
   "codemirror_mode": {
    "name": "ipython",
    "version": 3
   },
   "file_extension": ".py",
   "mimetype": "text/x-python",
   "name": "python",
   "nbconvert_exporter": "python",
   "pygments_lexer": "ipython3",
   "version": "3.11.0"
  }
 },
 "nbformat": 4,
 "nbformat_minor": 5
}
