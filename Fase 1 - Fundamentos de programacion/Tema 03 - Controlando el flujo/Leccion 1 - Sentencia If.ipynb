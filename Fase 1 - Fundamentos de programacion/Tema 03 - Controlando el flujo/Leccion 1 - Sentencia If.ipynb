{
 "cells": [
  {
   "cell_type": "code",
   "execution_count": 1,
   "metadata": {},
   "outputs": [
    {
     "name": "stdin",
     "output_type": "stream",
     "text": [
      " D\n"
     ]
    },
    {
     "name": "stdout",
     "output_type": "stream",
     "text": [
      "Opcion por defecto\n"
     ]
    }
   ],
   "source": [
    "opcion = input()\n",
    " \n",
    "if opcion == \"A\":\n",
    "    print(\"Opción A\")\n",
    "elif opcion == \"B\":\n",
    "    print(\"Opción B\")\n",
    "elif opcion == \"C\":\n",
    "    print(\"Opción C\")\n",
    "else:\n",
    "    print(\"Opcion por defecto\")"
   ]
  },
  {
   "cell_type": "code",
   "execution_count": 2,
   "metadata": {},
   "outputs": [
    {
     "name": "stdin",
     "output_type": "stream",
     "text": [
      " B\n"
     ]
    },
    {
     "name": "stdout",
     "output_type": "stream",
     "text": [
      "Opción B\n"
     ]
    }
   ],
   "source": [
    "opcion = input()\n",
    " \n",
    "match opcion:\n",
    "    case \"A\":\n",
    "        print(\"Opción A\")\n",
    "    case \"B\":\n",
    "        print(\"Opción B\")\n",
    "    case \"C\":\n",
    "        print(\"Opción C\")\n",
    "    case _:\n",
    "        print(\"Opción por defecto\")"
   ]
  }
 ],
 "metadata": {
  "kernelspec": {
   "display_name": "Python 3 (ipykernel)",
   "language": "python",
   "name": "python3"
  },
  "language_info": {
   "codemirror_mode": {
    "name": "ipython",
    "version": 3
   },
   "file_extension": ".py",
   "mimetype": "text/x-python",
   "name": "python",
   "nbconvert_exporter": "python",
   "pygments_lexer": "ipython3",
   "version": "3.11.0"
  }
 },
 "nbformat": 4,
 "nbformat_minor": 4
}
